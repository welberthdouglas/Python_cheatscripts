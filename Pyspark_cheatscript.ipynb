{
 "cells": [
  {
   "cell_type": "markdown",
   "metadata": {
    "toc": true
   },
   "source": [
    "<h1>Table of Contents<span class=\"tocSkip\"></span></h1>\n",
    "<div class=\"toc\"><ul class=\"toc-item\"><li><span><a href=\"#Imports\" data-toc-modified-id=\"Imports-1\"><span class=\"toc-item-num\">1&nbsp;&nbsp;</span>Imports</a></span></li><li><span><a href=\"#Spark-Session\" data-toc-modified-id=\"Spark-Session-2\"><span class=\"toc-item-num\">2&nbsp;&nbsp;</span>Spark Session</a></span></li><li><span><a href=\"#Spark-Dataframes\" data-toc-modified-id=\"Spark-Dataframes-3\"><span class=\"toc-item-num\">3&nbsp;&nbsp;</span>Spark Dataframes</a></span><ul class=\"toc-item\"><li><span><a href=\"#Create-a-Dataframe-from-a-csv-file\" data-toc-modified-id=\"Create-a-Dataframe-from-a-csv-file-3.1\"><span class=\"toc-item-num\">3.1&nbsp;&nbsp;</span>Create a Dataframe from a csv file</a></span></li><li><span><a href=\"#Create-a-Dataframe-from-a-pd.DataFrame\" data-toc-modified-id=\"Create-a-Dataframe-from-a-pd.DataFrame-3.2\"><span class=\"toc-item-num\">3.2&nbsp;&nbsp;</span>Create a Dataframe from a pd.DataFrame</a></span></li><li><span><a href=\"#Saving-a-Dataframe\" data-toc-modified-id=\"Saving-a-Dataframe-3.3\"><span class=\"toc-item-num\">3.3&nbsp;&nbsp;</span>Saving a Dataframe</a></span></li><li><span><a href=\"#Saving-as-a-Partitioned-Table\" data-toc-modified-id=\"Saving-as-a-Partitioned-Table-3.4\"><span class=\"toc-item-num\">3.4&nbsp;&nbsp;</span>Saving as a Partitioned Table</a></span></li><li><span><a href=\"#Showing-Schema\" data-toc-modified-id=\"Showing-Schema-3.5\"><span class=\"toc-item-num\">3.5&nbsp;&nbsp;</span>Showing Schema</a></span></li></ul></li><li><span><a href=\"#EDA\" data-toc-modified-id=\"EDA-4\"><span class=\"toc-item-num\">4&nbsp;&nbsp;</span>EDA</a></span><ul class=\"toc-item\"><li><span><a href=\"#Basic-Statistics\" data-toc-modified-id=\"Basic-Statistics-4.1\"><span class=\"toc-item-num\">4.1&nbsp;&nbsp;</span>Basic Statistics</a></span></li><li><span><a href=\"#Changing-all-columns-names\" data-toc-modified-id=\"Changing-all-columns-names-4.2\"><span class=\"toc-item-num\">4.2&nbsp;&nbsp;</span>Changing all columns names</a></span></li></ul></li></ul></div>"
   ]
  },
  {
   "cell_type": "markdown",
   "metadata": {},
   "source": [
    "# Imports"
   ]
  },
  {
   "cell_type": "code",
   "execution_count": 1,
   "metadata": {
    "ExecuteTime": {
     "end_time": "2020-05-04T15:40:02.987713Z",
     "start_time": "2020-05-04T15:40:01.547161Z"
    }
   },
   "outputs": [],
   "source": [
    "from pyspark.sql import SparkSession\n",
    "import pandas as pd"
   ]
  },
  {
   "cell_type": "markdown",
   "metadata": {},
   "source": [
    "# Spark Session"
   ]
  },
  {
   "cell_type": "code",
   "execution_count": 2,
   "metadata": {
    "ExecuteTime": {
     "end_time": "2020-05-04T15:40:19.793787Z",
     "start_time": "2020-05-04T15:40:06.452523Z"
    }
   },
   "outputs": [],
   "source": [
    "# instantiating a spark session\n",
    "spark = SparkSession.builder.getOrCreate()\n",
    "\n",
    "# Options:\n",
    "#conf = spark.sparkContext._conf.setAll([('spark.executor.memory', '4g'), ('spark.app.name', 'Spark Updated Conf'), ('spark.executor.cores', '4'), ('spark.cores.max', '4'), ('spark.driver.memory','4g')])\n"
   ]
  },
  {
   "cell_type": "markdown",
   "metadata": {},
   "source": [
    "# Spark Dataframes"
   ]
  },
  {
   "cell_type": "markdown",
   "metadata": {},
   "source": [
    "## Create a Dataframe from a csv file"
   ]
  },
  {
   "cell_type": "code",
   "execution_count": 3,
   "metadata": {
    "ExecuteTime": {
     "end_time": "2020-05-04T15:40:27.312957Z",
     "start_time": "2020-05-04T15:40:19.796295Z"
    }
   },
   "outputs": [],
   "source": [
    "ship = spark.read.csv('trekdata.csv',header=True,inferSchema=True)"
   ]
  },
  {
   "cell_type": "code",
   "execution_count": 4,
   "metadata": {
    "ExecuteTime": {
     "end_time": "2020-04-01T20:25:21.941001Z",
     "start_time": "2020-04-01T20:25:21.640353Z"
    }
   },
   "outputs": [
    {
     "name": "stdout",
     "output_type": "stream",
     "text": [
      "+---------+-----------+-----------------+-----+\n",
      "| registry|  ship_name|            class|speed|\n",
      "+---------+-----------+-----------------+-----+\n",
      "| NCC-1680|     Hoover|  Fighter Carrier|  1.5|\n",
      "|NCC-42254|      Curry|Thru-Deck Carrier|    5|\n",
      "| NCC-1769|  Armstrong|     Fast Frigate|   10|\n",
      "| NCC-1640|    Palomar|  Command Cruiser|   20|\n",
      "|NCC-C1200|     Aurora|          Cruiser|   20|\n",
      "|NCC-63646|      Akira|       Battleship|   15|\n",
      "| NCC-1701| Enterprise|    Heavy Cruiser|    5|\n",
      "| NCC-1700|Contitution|    Heavy Cruiser|    1|\n",
      "|  NCC-325|      Woden|  Cargo Transport|    3|\n",
      "|NCC-F1913|      Huron|        Freighter|    8|\n",
      "+---------+-----------+-----------------+-----+\n",
      "\n"
     ]
    }
   ],
   "source": [
    "ship.show()"
   ]
  },
  {
   "cell_type": "markdown",
   "metadata": {},
   "source": [
    "## Create a Dataframe from a pd.DataFrame"
   ]
  },
  {
   "cell_type": "code",
   "execution_count": 7,
   "metadata": {
    "ExecuteTime": {
     "end_time": "2020-04-03T00:09:08.451535Z",
     "start_time": "2020-04-03T00:09:08.413399Z"
    }
   },
   "outputs": [],
   "source": [
    "# creating pd.DataFrame\n",
    "series_data = {'registry' :['NCC-1680','NCC-1769','NCC-1701','NCC-F1913','NCC-42254','NCC-C1200'],\n",
    "               'series':['Discovery','Original','Original','New Generation','New Generation','New Generation']}\n",
    "pd_series = pd.DataFrame(series_data)\n",
    "\n",
    "# transforming pd,DataFrame to pySparkDataframe\n",
    "\n",
    "series = spark.createDataFrame(pd_series)"
   ]
  },
  {
   "cell_type": "markdown",
   "metadata": {},
   "source": [
    "## Saving a Dataframe"
   ]
  },
  {
   "cell_type": "code",
   "execution_count": 10,
   "metadata": {
    "ExecuteTime": {
     "end_time": "2020-04-03T00:13:25.815270Z",
     "start_time": "2020-04-03T00:13:24.503892Z"
    }
   },
   "outputs": [],
   "source": [
    "ship.write.saveAsTable('star_trek_ship_df', format='parquet',mode='overwrite')"
   ]
  },
  {
   "cell_type": "markdown",
   "metadata": {},
   "source": [
    "## Saving as a Partitioned Table"
   ]
  },
  {
   "cell_type": "code",
   "execution_count": null,
   "metadata": {},
   "outputs": [],
   "source": [
    "ship.write.saveAsTable('star_trek_ship_df_part', partitionBy='speed',format='parquet')\n",
    "\n",
    "# adding data to a partitioned table (previously created)\n",
    "\n",
    "ship.write.insertInto('star_trek_ship_df_part')"
   ]
  },
  {
   "cell_type": "code",
   "execution_count": 12,
   "metadata": {
    "ExecuteTime": {
     "end_time": "2020-04-03T00:14:29.952897Z",
     "start_time": "2020-04-03T00:14:29.922637Z"
    }
   },
   "outputs": [],
   "source": [
    "ship_part = spark.sql(\"select * from star_trek_ship_df_part \")"
   ]
  },
  {
   "cell_type": "code",
   "execution_count": 14,
   "metadata": {
    "ExecuteTime": {
     "end_time": "2020-04-03T00:14:58.956089Z",
     "start_time": "2020-04-03T00:14:58.770108Z"
    }
   },
   "outputs": [
    {
     "name": "stdout",
     "output_type": "stream",
     "text": [
      "+--------+-----------+---------------+-----+\n",
      "|registry|  ship_name|          class|speed|\n",
      "+--------+-----------+---------------+-----+\n",
      "|NCC-1700|Contitution|  Heavy Cruiser|    1|\n",
      "|NCC-1700|Contitution|  Heavy Cruiser|    1|\n",
      "|NCC-1640|    Palomar|Command Cruiser|   20|\n",
      "|NCC-1640|    Palomar|Command Cruiser|   20|\n",
      "|NCC-1769|  Armstrong|   Fast Frigate|   10|\n",
      "+--------+-----------+---------------+-----+\n",
      "only showing top 5 rows\n",
      "\n"
     ]
    }
   ],
   "source": [
    "ship_part.show(5)"
   ]
  },
  {
   "cell_type": "code",
   "execution_count": 15,
   "metadata": {
    "ExecuteTime": {
     "end_time": "2020-04-03T00:15:24.552187Z",
     "start_time": "2020-04-03T00:15:24.410051Z"
    }
   },
   "outputs": [
    {
     "name": "stdout",
     "output_type": "stream",
     "text": [
      "+---------+\n",
      "|partition|\n",
      "+---------+\n",
      "|speed= 20|\n",
      "|  speed=1|\n",
      "|speed=1.5|\n",
      "| speed=10|\n",
      "| speed=15|\n",
      "| speed=20|\n",
      "|  speed=3|\n",
      "|  speed=5|\n",
      "|  speed=8|\n",
      "+---------+\n",
      "\n"
     ]
    }
   ],
   "source": [
    "spark.sql(\"show partitions star_trek_ship_df_part\").show()"
   ]
  },
  {
   "cell_type": "markdown",
   "metadata": {},
   "source": [
    "## Showing Schema"
   ]
  },
  {
   "cell_type": "code",
   "execution_count": 19,
   "metadata": {
    "ExecuteTime": {
     "end_time": "2020-04-03T00:23:14.981930Z",
     "start_time": "2020-04-03T00:23:14.971642Z"
    }
   },
   "outputs": [
    {
     "name": "stdout",
     "output_type": "stream",
     "text": [
      "root\n",
      " |-- registry: string (nullable = true)\n",
      " |-- ship_name: string (nullable = true)\n",
      " |-- class: string (nullable = true)\n",
      " |-- speed: double (nullable = true)\n",
      "\n"
     ]
    }
   ],
   "source": [
    "ship.printSchema()"
   ]
  },
  {
   "cell_type": "markdown",
   "metadata": {},
   "source": [
    "# EDA"
   ]
  },
  {
   "cell_type": "markdown",
   "metadata": {
    "ExecuteTime": {
     "end_time": "2020-04-03T00:28:06.043864Z",
     "start_time": "2020-04-03T00:28:06.037305Z"
    }
   },
   "source": [
    "## Basic Statistics"
   ]
  },
  {
   "cell_type": "markdown",
   "metadata": {},
   "source": [
    "## Changing all columns names\n",
    "\n",
    "For changing a lower number of columns use .withColumnRenamed() or .alias()"
   ]
  },
  {
   "cell_type": "code",
   "execution_count": 4,
   "metadata": {
    "ExecuteTime": {
     "end_time": "2020-05-04T15:40:28.477600Z",
     "start_time": "2020-05-04T15:40:28.329757Z"
    }
   },
   "outputs": [
    {
     "data": {
      "text/plain": [
       "['registry', 'ship_name', 'class', 'speed']"
      ]
     },
     "execution_count": 4,
     "metadata": {},
     "output_type": "execute_result"
    }
   ],
   "source": [
    "ship.columns"
   ]
  },
  {
   "cell_type": "code",
   "execution_count": 8,
   "metadata": {
    "ExecuteTime": {
     "end_time": "2020-05-04T15:41:06.432006Z",
     "start_time": "2020-05-04T15:41:06.408497Z"
    }
   },
   "outputs": [],
   "source": [
    "new_cols_names = ['reg','name','ship_class','ship_speed']\n",
    "ship_col_renamed = ship.toDF(*new_cols_names)"
   ]
  },
  {
   "cell_type": "code",
   "execution_count": 10,
   "metadata": {
    "ExecuteTime": {
     "end_time": "2020-05-04T15:41:24.278153Z",
     "start_time": "2020-05-04T15:41:24.261337Z"
    }
   },
   "outputs": [
    {
     "data": {
      "text/plain": [
       "['reg', 'name', 'ship_class', 'ship_speed']"
      ]
     },
     "execution_count": 10,
     "metadata": {},
     "output_type": "execute_result"
    }
   ],
   "source": [
    "ship_col_renamed.columns"
   ]
  }
 ],
 "metadata": {
  "kernelspec": {
   "display_name": "Python 3",
   "language": "python",
   "name": "python3"
  },
  "language_info": {
   "codemirror_mode": {
    "name": "ipython",
    "version": 3
   },
   "file_extension": ".py",
   "mimetype": "text/x-python",
   "name": "python",
   "nbconvert_exporter": "python",
   "pygments_lexer": "ipython3",
   "version": "3.6.9"
  },
  "toc": {
   "base_numbering": 1,
   "nav_menu": {},
   "number_sections": true,
   "sideBar": true,
   "skip_h1_title": false,
   "title_cell": "Table of Contents",
   "title_sidebar": "Contents",
   "toc_cell": true,
   "toc_position": {
    "height": "calc(100% - 180px)",
    "left": "10px",
    "top": "150px",
    "width": "321px"
   },
   "toc_section_display": true,
   "toc_window_display": true
  },
  "varInspector": {
   "cols": {
    "lenName": 16,
    "lenType": 16,
    "lenVar": 40
   },
   "kernels_config": {
    "python": {
     "delete_cmd_postfix": "",
     "delete_cmd_prefix": "del ",
     "library": "var_list.py",
     "varRefreshCmd": "print(var_dic_list())"
    },
    "r": {
     "delete_cmd_postfix": ") ",
     "delete_cmd_prefix": "rm(",
     "library": "var_list.r",
     "varRefreshCmd": "cat(var_dic_list()) "
    }
   },
   "types_to_exclude": [
    "module",
    "function",
    "builtin_function_or_method",
    "instance",
    "_Feature"
   ],
   "window_display": false
  }
 },
 "nbformat": 4,
 "nbformat_minor": 2
}
