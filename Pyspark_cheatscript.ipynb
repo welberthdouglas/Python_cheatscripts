{
 "cells": [
  {
   "cell_type": "markdown",
   "metadata": {
    "toc": true
   },
   "source": [
    "<h1>Table of Contents<span class=\"tocSkip\"></span></h1>\n",
    "<div class=\"toc\"><ul class=\"toc-item\"><li><span><a href=\"#Imports\" data-toc-modified-id=\"Imports-1\"><span class=\"toc-item-num\">1&nbsp;&nbsp;</span>Imports</a></span></li><li><span><a href=\"#Spark-Session\" data-toc-modified-id=\"Spark-Session-2\"><span class=\"toc-item-num\">2&nbsp;&nbsp;</span>Spark Session</a></span></li><li><span><a href=\"#Spark-Dataframes\" data-toc-modified-id=\"Spark-Dataframes-3\"><span class=\"toc-item-num\">3&nbsp;&nbsp;</span>Spark Dataframes</a></span><ul class=\"toc-item\"><li><span><a href=\"#Dataframe-from-a-csv-file\" data-toc-modified-id=\"Dataframe-from-a-csv-file-3.1\"><span class=\"toc-item-num\">3.1&nbsp;&nbsp;</span>Dataframe from a csv file</a></span></li><li><span><a href=\"#Dataframe-from-a-pd.DataFrame\" data-toc-modified-id=\"Dataframe-from-a-pd.DataFrame-3.2\"><span class=\"toc-item-num\">3.2&nbsp;&nbsp;</span>Dataframe from a pd.DataFrame</a></span></li></ul></li></ul></div>"
   ]
  },
  {
   "cell_type": "markdown",
   "metadata": {},
   "source": [
    "# Imports"
   ]
  },
  {
   "cell_type": "code",
   "execution_count": 1,
   "metadata": {
    "ExecuteTime": {
     "end_time": "2020-04-01T20:25:14.246743Z",
     "start_time": "2020-04-01T20:25:13.863986Z"
    }
   },
   "outputs": [],
   "source": [
    "from pyspark.sql import SparkSession\n",
    "import pandas as pd"
   ]
  },
  {
   "cell_type": "markdown",
   "metadata": {},
   "source": [
    "# Spark Session"
   ]
  },
  {
   "cell_type": "code",
   "execution_count": 2,
   "metadata": {
    "ExecuteTime": {
     "end_time": "2020-04-01T20:25:17.361693Z",
     "start_time": "2020-04-01T20:25:14.248931Z"
    }
   },
   "outputs": [],
   "source": [
    "# instantiating a spark session\n",
    "spark = SparkSession.builder.getOrCreate()\n",
    "\n",
    "# Options:\n",
    "#conf = spark.sparkContext._conf.setAll([('spark.executor.memory', '4g'), ('spark.app.name', 'Spark Updated Conf'), ('spark.executor.cores', '4'), ('spark.cores.max', '4'), ('spark.driver.memory','4g')])\n"
   ]
  },
  {
   "cell_type": "markdown",
   "metadata": {},
   "source": [
    "# Spark Dataframes"
   ]
  },
  {
   "cell_type": "markdown",
   "metadata": {},
   "source": [
    "## Dataframe from a csv file"
   ]
  },
  {
   "cell_type": "code",
   "execution_count": 3,
   "metadata": {
    "ExecuteTime": {
     "end_time": "2020-04-01T20:25:21.620114Z",
     "start_time": "2020-04-01T20:25:17.364076Z"
    }
   },
   "outputs": [],
   "source": [
    "ship = spark.read.csv('trekdata.csv',header=True)"
   ]
  },
  {
   "cell_type": "code",
   "execution_count": 4,
   "metadata": {
    "ExecuteTime": {
     "end_time": "2020-04-01T20:25:21.941001Z",
     "start_time": "2020-04-01T20:25:21.640353Z"
    }
   },
   "outputs": [
    {
     "name": "stdout",
     "output_type": "stream",
     "text": [
      "+---------+-----------+-----------------+-----+\n",
      "| registry|  ship_name|            class|speed|\n",
      "+---------+-----------+-----------------+-----+\n",
      "| NCC-1680|     Hoover|  Fighter Carrier|  1.5|\n",
      "|NCC-42254|      Curry|Thru-Deck Carrier|    5|\n",
      "| NCC-1769|  Armstrong|     Fast Frigate|   10|\n",
      "| NCC-1640|    Palomar|  Command Cruiser|   20|\n",
      "|NCC-C1200|     Aurora|          Cruiser|   20|\n",
      "|NCC-63646|      Akira|       Battleship|   15|\n",
      "| NCC-1701| Enterprise|    Heavy Cruiser|    5|\n",
      "| NCC-1700|Contitution|    Heavy Cruiser|    1|\n",
      "|  NCC-325|      Woden|  Cargo Transport|    3|\n",
      "|NCC-F1913|      Huron|        Freighter|    8|\n",
      "+---------+-----------+-----------------+-----+\n",
      "\n"
     ]
    }
   ],
   "source": [
    "ship.show()"
   ]
  },
  {
   "cell_type": "markdown",
   "metadata": {},
   "source": [
    "## Dataframe from a pd.DataFrame"
   ]
  },
  {
   "cell_type": "code",
   "execution_count": 5,
   "metadata": {
    "ExecuteTime": {
     "end_time": "2020-04-01T20:25:22.093792Z",
     "start_time": "2020-04-01T20:25:21.943456Z"
    }
   },
   "outputs": [],
   "source": [
    "# creating pd.DataFrame\n",
    "series_data = {'registry' :['NCC-1680','NCC-1769','NCC-1701','NCC-F1913','NCC-42254','NCC-C1200'],\n",
    "               'series':['Discovery','Original','Original','New Generation','New Generation','New Generation']}\n",
    "\n",
    "pd_series = pd.DataFrame(series_data)\n",
    "\n",
    "# transforming pd,DataFrame to pySparkDataframe\n",
    "\n",
    "series = spark.createDataFrame(pd_series)"
   ]
  }
 ],
 "metadata": {
  "kernelspec": {
   "display_name": "Python 3",
   "language": "python",
   "name": "python3"
  },
  "language_info": {
   "codemirror_mode": {
    "name": "ipython",
    "version": 3
   },
   "file_extension": ".py",
   "mimetype": "text/x-python",
   "name": "python",
   "nbconvert_exporter": "python",
   "pygments_lexer": "ipython3",
   "version": "3.6.9"
  },
  "toc": {
   "base_numbering": 1,
   "nav_menu": {},
   "number_sections": true,
   "sideBar": true,
   "skip_h1_title": false,
   "title_cell": "Table of Contents",
   "title_sidebar": "Contents",
   "toc_cell": true,
   "toc_position": {
    "height": "calc(100% - 180px)",
    "left": "10px",
    "top": "150px",
    "width": "321px"
   },
   "toc_section_display": true,
   "toc_window_display": true
  },
  "varInspector": {
   "cols": {
    "lenName": 16,
    "lenType": 16,
    "lenVar": 40
   },
   "kernels_config": {
    "python": {
     "delete_cmd_postfix": "",
     "delete_cmd_prefix": "del ",
     "library": "var_list.py",
     "varRefreshCmd": "print(var_dic_list())"
    },
    "r": {
     "delete_cmd_postfix": ") ",
     "delete_cmd_prefix": "rm(",
     "library": "var_list.r",
     "varRefreshCmd": "cat(var_dic_list()) "
    }
   },
   "types_to_exclude": [
    "module",
    "function",
    "builtin_function_or_method",
    "instance",
    "_Feature"
   ],
   "window_display": false
  }
 },
 "nbformat": 4,
 "nbformat_minor": 2
}
